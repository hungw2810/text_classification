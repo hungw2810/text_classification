{
 "cells": [
  {
   "cell_type": "code",
   "execution_count": 1,
   "metadata": {},
   "outputs": [],
   "source": [
    "from underthesea import word_tokenize\n",
    "from sklearn.feature_extraction.text import TfidfVectorizer\n",
    "import joblib\n",
    "import pandas as pd\n",
    "from sklearn.model_selection import train_test_split\n",
    "import regex as re\n",
    "from sklearn import svm"
   ]
  },
  {
   "cell_type": "code",
   "execution_count": 2,
   "metadata": {},
   "outputs": [],
   "source": [
    "emb = None\n",
    "\n",
    "def load_data():\n",
    "    df1 = pd.read_csv(\"data_train_neg.csv\")\n",
    "    df2=pd.read_csv(\"data_train_pos.csv\")\n",
    "    frames=[df1,df2]\n",
    "    resulst=pd.concat(frames)\n",
    "    return resulst\n",
    "# 2. Standardize and tokenizer Text column\n",
    "def remove_icon(text):\n",
    "    pattern = re.compile('[\\W_]+')\n",
    "    dirty_list = text.split()\n",
    "    clean_list = [pattern.sub('', word) for word in dirty_list]\n",
    "    clean_string = ' '.join(clean_list)\n",
    "    return clean_string\n",
    "\n",
    "\n",
    "def standardize_data(post):\n",
    "    post=str(post)\n",
    "    post=remove_icon(post)\n",
    "    post=post.replace('.','')\n",
    "    post=post.replace(',','')\n",
    "    post=post.replace(' k ',' không ')\n",
    "    post=post.replace(' mk ',' mình ')\n",
    "    post=post.replace('\\n',' ')\n",
    "    post=post.replace(' cx ',' cũng ')\n",
    "    post=post.replace('  ',' ')\n",
    "    post=post.replace(' r ',' rồi ')\n",
    "    post=post.replace(' dc ',' được ')\n",
    "    post=post.strip()\n",
    "    post = re.sub(r\"[\\.,\\?]+$-\", \"\", post)\n",
    "    return post\n",
    "\n",
    "def tokenizer(row):\n",
    "    row=str(row)\n",
    "    return word_tokenize(row, format=\"text\")\n",
    "\n",
    "# Embeding\n",
    "def embedding(X_train, X_test):\n",
    "    global  emb\n",
    "    emb = TfidfVectorizer(min_df=5, max_df=0.8,max_features=3000,sublinear_tf=True)\n",
    "    emb.fit(X_train)\n",
    "    X_train =  emb.transform(X_train)\n",
    "    X_test = emb.transform(X_test)\n",
    "\n",
    "    # Save pkl file\n",
    "    joblib.dump(emb, 'tfidf.pkl')\n",
    "    return X_train, X_test\n",
    "\n"
   ]
  },
  {
   "cell_type": "code",
   "execution_count": 3,
   "metadata": {},
   "outputs": [],
   "source": [
    "#  Load data from file\n",
    "data = load_data()\n",
    "data[\"Text\"] = data.Text.apply(standardize_data)\n",
    "data[\"Text\"] = data.Text.apply(tokenizer)"
   ]
  },
  {
   "cell_type": "code",
   "execution_count": 4,
   "metadata": {},
   "outputs": [
    {
     "name": "stdout",
     "output_type": "stream",
     "text": [
      "Model score= 0.8877263581488933\n",
      "Done\n"
     ]
    }
   ],
   "source": [
    "#  Convert to X_train, y_train\n",
    "X_train,X_test,y_train,y_test = train_test_split(data[\"Text\"],data[\"Sentiment\"],test_size=0.2, random_state=42)\n",
    "\n",
    "# Embeding X_train\n",
    "X_train,X_test  = embedding(X_train, X_test)\n",
    "\n",
    "# Train and save model\n",
    "model = svm.SVC(kernel='linear', C = 1)\n",
    "model.fit(X_train,y_train)\n",
    "joblib.dump(model, 'saved_model.pkl')\n",
    "\n",
    "# Test\n",
    "print(\"Model score=\", model.score(X_test, y_test))\n",
    "print(\"Done\")"
   ]
  }
 ],
 "metadata": {
  "interpreter": {
   "hash": "150aea412d178b9797150d0b322d4d759486f51765cf9a87c519e149674a65b8"
  },
  "kernelspec": {
   "display_name": "Python 3.8.12 64-bit ('text_classification': conda)",
   "name": "python3"
  },
  "language_info": {
   "codemirror_mode": {
    "name": "ipython",
    "version": 3
   },
   "file_extension": ".py",
   "mimetype": "text/x-python",
   "name": "python",
   "nbconvert_exporter": "python",
   "pygments_lexer": "ipython3",
   "version": "3.8.12"
  },
  "orig_nbformat": 4
 },
 "nbformat": 4,
 "nbformat_minor": 2
}
