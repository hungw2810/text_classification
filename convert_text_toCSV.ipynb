{
 "cells": [
  {
   "cell_type": "code",
   "execution_count": 4,
   "metadata": {},
   "outputs": [],
   "source": [
    "\n",
    "import os\n",
    "import pandas as pd\n",
    "import csv\n",
    "\n",
    "fields=['Text','Sentiment']\n",
    "def Create_CSV_Dataset(Sentiment):\n",
    "    sentences=[]\n",
    "    if Sentiment=='neg':\n",
    "        classification='0'\n",
    "    elif Sentiment=='pos':\n",
    "        classification='1'\n",
    "    for txtfile in os.listdir(Sentiment):\n",
    "        with open (Sentiment+'/'+txtfile,'r',encoding='utf-8') as f:\n",
    "            data=f.read()\n",
    "            data=data.strip()\n",
    "            row=[data,classification]\n",
    "            sentences.append(row)\n",
    "    with open('data_train_'+Sentiment+'.csv', 'w',encoding='utf-8', newline='') as csvfile: \n",
    "        csvwriter = csv.writer(csvfile) \n",
    "        csvwriter.writerow(fields)\n",
    "        csvwriter.writerows(sentences)"
   ]
  },
  {
   "cell_type": "code",
   "execution_count": 6,
   "metadata": {},
   "outputs": [],
   "source": [
    "Create_CSV_Dataset('neg')"
   ]
  }
 ],
 "metadata": {
  "interpreter": {
   "hash": "150aea412d178b9797150d0b322d4d759486f51765cf9a87c519e149674a65b8"
  },
  "kernelspec": {
   "display_name": "Python 3.8.12 64-bit ('text_classification': conda)",
   "name": "python3"
  },
  "language_info": {
   "codemirror_mode": {
    "name": "ipython",
    "version": 3
   },
   "file_extension": ".py",
   "mimetype": "text/x-python",
   "name": "python",
   "nbconvert_exporter": "python",
   "pygments_lexer": "ipython3",
   "version": "3.8.12"
  },
  "orig_nbformat": 4
 },
 "nbformat": 4,
 "nbformat_minor": 2
}
