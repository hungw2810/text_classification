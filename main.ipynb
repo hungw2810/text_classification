{
 "cells": [
  {
   "cell_type": "code",
   "execution_count": 1,
   "metadata": {},
   "outputs": [],
   "source": [
    "from selenium import webdriver\n",
    "from webdriver_manager.chrome import ChromeDriverManager\n",
    "import time\n",
    "from underthesea import word_tokenize\n",
    "import joblib\n",
    "import pandas as pd\n",
    "import numpy as np\n",
    "import regex as re\n",
    "\n",
    "\n",
    "def load_url(url):\n",
    "    driver=webdriver.Chrome(ChromeDriverManager().install())\n",
    "    driver.get(url)\n",
    "    time.sleep(3)\n",
    "    driver.execute_script(\"window.scrollTo(0,document.body.scrollHeight);\")\n",
    "    time.sleep(3)\n",
    "    num_rate=driver.execute_script(\"var count = document.querySelectorAll('[data-testid=post_message]').length; return count\")\n",
    "\n",
    "    csvdata = []\n",
    "    for i in range (0,num_rate):\n",
    "        script=\"var post= document.querySelectorAll('[data-testid=post_message]')[\"+str(i)+\"].innerText; return post\"\n",
    "        post=driver.execute_script(script)\n",
    "        csvdata.append(post)\n",
    "    driver.close()\n",
    "    return csvdata\n",
    "\n",
    "def remove_icon(text):\n",
    "    pattern = re.compile('[\\W_]+')\n",
    "    dirty_list = text.split()\n",
    "    clean_list = [pattern.sub('', word) for word in dirty_list]\n",
    "    clean_string = ' '.join(clean_list)\n",
    "    return clean_string\n",
    "\n",
    "def standardize_data(post):\n",
    "    post=remove_icon(post)\n",
    "    post=post.replace('.','')\n",
    "    post=post.replace(',','')\n",
    "    post=post.replace(' k ',' không ')\n",
    "    post=post.replace(' mk ',' mình ')\n",
    "    post=post.replace('\\n',' ')\n",
    "    post=post.replace(' cx ',' cũng ')\n",
    "    post=post.replace('  ',' ')\n",
    "    post=post.replace(' r ',' rồi ')\n",
    "    post=post.replace(' dc ',' được ')\n",
    "    post=post.strip()\n",
    "    post = re.sub(r\"[\\.,\\?]+$-\", \"\", post)\n",
    "    post=word_tokenize(post.lower(),format=\"text\")\n",
    "    return post\n",
    "\n",
    "def tokenizer(row):\n",
    "    return word_tokenize(row, format=\"text\")\n"
   ]
  },
  {
   "cell_type": "code",
   "execution_count": 2,
   "metadata": {},
   "outputs": [
    {
     "name": "stderr",
     "output_type": "stream",
     "text": [
      "[WDM] - \n",
      "\n",
      "[WDM] - ====== WebDriver manager ======\n",
      "[WDM] - Current google-chrome version is 94.0.4606\n",
      "[WDM] - Get LATEST driver version for 94.0.4606\n",
      "[WDM] - Get LATEST driver version for 94.0.4606\n",
      "[WDM] - Trying to download new driver from https://chromedriver.storage.googleapis.com/94.0.4606.61/chromedriver_win32.zip\n",
      "[WDM] - Driver has been saved in cache [C:\\Users\\hungn\\.wdm\\drivers\\chromedriver\\win32\\94.0.4606.61]\n"
     ]
    }
   ],
   "source": [
    "url =  'https://www.facebook.com/pg/ilovelotteriadongda/reviews/'\n",
    "data = load_url(url)"
   ]
  },
  {
   "cell_type": "code",
   "execution_count": 3,
   "metadata": {},
   "outputs": [
    {
     "data": {
      "text/plain": [
       "['Thực đơn ngon miệng, nhân viên phục vụ tốt',\n",
       " 'Phục vụ k tốt đồ ăn không chất lượng . Tôi rất thất vọng với trải nhiệm lần này',\n",
       " 'Đồ ăn rất ngon, nhân viên phục vụ rất nhiệt tình',\n",
       " 'Thích combo 88k ở đây nhất!😁',\n",
       " 'Mình đến ăn gà với bạn bè để có thể vui chơi giải trí nhưng mà đến quán toàn phải ăn cơm 🐶 cũng đủ no r, đã thế nhạc toàn là nhạc tình cảm thôi làm cho 1 người cô đơn như mình cảm thấy rất tủi.\\nMong lần sau quán cho các cặp đôi yêu nhau chia đôi bàn để mình cảm thấy vui 😢',\n",
       " 'Quá là điều bình thường nuôn. Chả có gì đặc sắc, đồ ăn thì max. Ăn 1 bữa chắc đau ví cả tháng🤣🤣🤣',\n",
       " 'Hay mua theo combo cho tiện nhưngg không được enjoy cho lắm 😀 Không có gì đặc sắc',\n",
       " 'dịch vụ giao hàng tồi , ồn ào',\n",
       " 'Lâu rùi k ra ngoài đường quên luôn mùi Lotteria. Đôi lời gửi gắm, mk thích ăn kem ốc quế mà lúc nào đến cũng hết vỏ quế à 😰😰, mong sẽ nhập hàng liên tục ngày nào cx sẽ ra ăn 👍',\n",
       " 'nhân viên phục vụ không tốt',\n",
       " 'Đồ ăn khá ngon. combo có 158 mà nhiều đồ gheee',\n",
       " 'Ăn được ăn ok ăn ngon ăn khá ổn',\n",
       " 'Giao hàng lâu, đồ ăn nguội và đắt',\n",
       " 'Dịch vụ giao hàng nhanh..',\n",
       " 'trong các nỗi lo em thích nhất lo-ttteria',\n",
       " 'Cái gì cũng tốt. Chỉ có rút tiền từ túi mình là không tốt :(((',\n",
       " 'Giao hàng nhanh, giá thành hợp lú']"
      ]
     },
     "execution_count": 3,
     "metadata": {},
     "output_type": "execute_result"
    }
   ],
   "source": [
    "data"
   ]
  },
  {
   "cell_type": "code",
   "execution_count": 4,
   "metadata": {},
   "outputs": [],
   "source": [
    "datafr=pd.DataFrame(data)\n",
    "datafr[0]=datafr[0].apply(standardize_data)\n",
    "datafr[0]=datafr[0].apply(tokenizer)"
   ]
  },
  {
   "cell_type": "code",
   "execution_count": 5,
   "metadata": {},
   "outputs": [
    {
     "data": {
      "text/plain": [
       "array([1, 0, 1, 1, 1, 0, 0, 0, 1, 0, 1, 0, 0, 1, 1, 0, 1], dtype=int64)"
      ]
     },
     "execution_count": 5,
     "metadata": {},
     "output_type": "execute_result"
    }
   ],
   "source": [
    "# Embedding\n",
    "X_val = datafr[0]\n",
    "emb = joblib.load('tfidf.pkl')\n",
    "X_val = emb.transform(X_val)\n",
    "#  Predict\n",
    "model = joblib.load('saved_model.pkl')\n",
    "result = model.predict(X_val)\n",
    "result"
   ]
  },
  {
   "cell_type": "code",
   "execution_count": 6,
   "metadata": {},
   "outputs": [
    {
     "data": {
      "text/html": [
       "<div>\n",
       "<style scoped>\n",
       "    .dataframe tbody tr th:only-of-type {\n",
       "        vertical-align: middle;\n",
       "    }\n",
       "\n",
       "    .dataframe tbody tr th {\n",
       "        vertical-align: top;\n",
       "    }\n",
       "\n",
       "    .dataframe thead th {\n",
       "        text-align: right;\n",
       "    }\n",
       "</style>\n",
       "<table border=\"1\" class=\"dataframe\">\n",
       "  <thead>\n",
       "    <tr style=\"text-align: right;\">\n",
       "      <th></th>\n",
       "      <th>0</th>\n",
       "      <th>Sentiment</th>\n",
       "    </tr>\n",
       "  </thead>\n",
       "  <tbody>\n",
       "    <tr>\n",
       "      <th>0</th>\n",
       "      <td>thực_đơn ngon_miệng nhân_viên phục_vụ tốt</td>\n",
       "      <td>1</td>\n",
       "    </tr>\n",
       "    <tr>\n",
       "      <th>1</th>\n",
       "      <td>phục_vụ không tốt đồ ăn không chất_lượng tôi r...</td>\n",
       "      <td>0</td>\n",
       "    </tr>\n",
       "    <tr>\n",
       "      <th>2</th>\n",
       "      <td>đồ ăn rất ngon nhân_viên phục_vụ rất nhiệt_tình</td>\n",
       "      <td>1</td>\n",
       "    </tr>\n",
       "    <tr>\n",
       "      <th>3</th>\n",
       "      <td>thích combo 88 k ở đây nhất</td>\n",
       "      <td>1</td>\n",
       "    </tr>\n",
       "    <tr>\n",
       "      <th>4</th>\n",
       "      <td>mình đến ăn gà với bạn_bè để có_thể vui_chơi g...</td>\n",
       "      <td>1</td>\n",
       "    </tr>\n",
       "    <tr>\n",
       "      <th>5</th>\n",
       "      <td>quá là điều bình_thường nuôn chả có gì đặc_sắc...</td>\n",
       "      <td>0</td>\n",
       "    </tr>\n",
       "    <tr>\n",
       "      <th>6</th>\n",
       "      <td>hay mua theo combo cho tiện nhưngg không được ...</td>\n",
       "      <td>0</td>\n",
       "    </tr>\n",
       "    <tr>\n",
       "      <th>7</th>\n",
       "      <td>dịch_vụ giao hàng tồi ồn_ào</td>\n",
       "      <td>0</td>\n",
       "    </tr>\n",
       "    <tr>\n",
       "      <th>8</th>\n",
       "      <td>lâu rùi không ra ngoài đường quên luôn mùi lot...</td>\n",
       "      <td>1</td>\n",
       "    </tr>\n",
       "    <tr>\n",
       "      <th>9</th>\n",
       "      <td>nhân_viên phục_vụ không tốt</td>\n",
       "      <td>0</td>\n",
       "    </tr>\n",
       "    <tr>\n",
       "      <th>10</th>\n",
       "      <td>đồ ăn khá ngon combo có 158 mà nhiều đồ gheee</td>\n",
       "      <td>1</td>\n",
       "    </tr>\n",
       "    <tr>\n",
       "      <th>11</th>\n",
       "      <td>ăn được ăn ok ăn ngon_ăn khá ổn</td>\n",
       "      <td>0</td>\n",
       "    </tr>\n",
       "    <tr>\n",
       "      <th>12</th>\n",
       "      <td>giao hàng lâu đồ ăn_nguội và đắt</td>\n",
       "      <td>0</td>\n",
       "    </tr>\n",
       "    <tr>\n",
       "      <th>13</th>\n",
       "      <td>dịch_vụ giao hàng nhanh</td>\n",
       "      <td>1</td>\n",
       "    </tr>\n",
       "    <tr>\n",
       "      <th>14</th>\n",
       "      <td>trong các nỗi lo em thích nhất lottteria</td>\n",
       "      <td>1</td>\n",
       "    </tr>\n",
       "    <tr>\n",
       "      <th>15</th>\n",
       "      <td>cái gì cũng tốt chỉ có rút_tiền từ túi mình là...</td>\n",
       "      <td>0</td>\n",
       "    </tr>\n",
       "    <tr>\n",
       "      <th>16</th>\n",
       "      <td>giao hàng nhanh giá_thành hợp lú</td>\n",
       "      <td>1</td>\n",
       "    </tr>\n",
       "  </tbody>\n",
       "</table>\n",
       "</div>"
      ],
      "text/plain": [
       "                                                    0  Sentiment\n",
       "0           thực_đơn ngon_miệng nhân_viên phục_vụ tốt          1\n",
       "1   phục_vụ không tốt đồ ăn không chất_lượng tôi r...          0\n",
       "2     đồ ăn rất ngon nhân_viên phục_vụ rất nhiệt_tình          1\n",
       "3                         thích combo 88 k ở đây nhất          1\n",
       "4   mình đến ăn gà với bạn_bè để có_thể vui_chơi g...          1\n",
       "5   quá là điều bình_thường nuôn chả có gì đặc_sắc...          0\n",
       "6   hay mua theo combo cho tiện nhưngg không được ...          0\n",
       "7                         dịch_vụ giao hàng tồi ồn_ào          0\n",
       "8   lâu rùi không ra ngoài đường quên luôn mùi lot...          1\n",
       "9                         nhân_viên phục_vụ không tốt          0\n",
       "10      đồ ăn khá ngon combo có 158 mà nhiều đồ gheee          1\n",
       "11                    ăn được ăn ok ăn ngon_ăn khá ổn          0\n",
       "12                   giao hàng lâu đồ ăn_nguội và đắt          0\n",
       "13                            dịch_vụ giao hàng nhanh          1\n",
       "14           trong các nỗi lo em thích nhất lottteria          1\n",
       "15  cái gì cũng tốt chỉ có rút_tiền từ túi mình là...          0\n",
       "16                   giao hàng nhanh giá_thành hợp lú          1"
      ]
     },
     "execution_count": 6,
     "metadata": {},
     "output_type": "execute_result"
    }
   ],
   "source": [
    "datafr['Sentiment']=result\n",
    "datafr"
   ]
  }
 ],
 "metadata": {
  "interpreter": {
   "hash": "150aea412d178b9797150d0b322d4d759486f51765cf9a87c519e149674a65b8"
  },
  "kernelspec": {
   "display_name": "Python 3.8.12 64-bit ('text_classification': conda)",
   "name": "python3"
  },
  "language_info": {
   "codemirror_mode": {
    "name": "ipython",
    "version": 3
   },
   "file_extension": ".py",
   "mimetype": "text/x-python",
   "name": "python",
   "nbconvert_exporter": "python",
   "pygments_lexer": "ipython3",
   "version": "3.8.12"
  },
  "orig_nbformat": 4
 },
 "nbformat": 4,
 "nbformat_minor": 2
}
